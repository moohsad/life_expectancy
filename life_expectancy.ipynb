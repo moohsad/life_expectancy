{
 "cells": [
  {
   "cell_type": "markdown",
   "metadata": {},
   "source": [
    "# Life Expectancy Prediction\n",
    "This project predicts life expectancy across countries using health, economic, and demographic indicators with machine learning."
   ]
  },
  {
   "cell_type": "markdown",
   "metadata": {},
   "source": [
    "## Dataset Overview\n",
    "- **Rows**: 2,848 (train), 80 (test)\n",
    "- **Columns**: 18 (train), 17 (test)\n",
    "- **Features**: Country, Year, Status, Population, Health indicators (Hepatitis B, Measles, etc.), Economic (GDP, Total expenditure), Lifestyle (BMI, Alcohol, Schooling)\n",
    "- **Target**: `Life expectancy` (average lifespan in years)\n",
    "- **Source**: train.csv, test.csv"
   ]
  },
  {
   "cell_type": "code",
   "execution_count": null,
   "metadata": {},
   "outputs": [],
   "source": [
    "# Import libraries\n",
    "import numpy as np\n",
    "import pandas as pd\n",
    "from pathlib import Path\n",
    "import lightgbm as lgb\n",
    "from sklearn.model_selection import train_test_split\n",
    "from sklearn.preprocessing import StandardScaler\n",
    "from sklearn.metrics import r2_score"
   ]
  },
  {
   "cell_type": "code",
   "execution_count": null,
   "metadata": {},
   "outputs": [],
   "source": [
    "# Load datasets\n",
    "data_dir = Path('../data')\n",
    "train_data = pd.read_csv(data_dir / 'train.csv')\n",
    "test_data = pd.read_csv(data_dir / 'test.csv')\n",
    "train_data.head()"
   ]
  },
  {
   "cell_type": "markdown",
   "metadata": {},
   "source": [
    "## Feature Engineering\n",
    "### 1. Handle Missing Values\n",
    "- Fill NaNs with country-specific means; fallback to global median if needed."
   ]
  },
  {
   "cell_type": "code",
   "execution_count": null,
   "metadata": {},
   "outputs": [],
   "source": [
    "class DataPreprocessor:\n",
    "    def __init__(self):\n",
    "        self.means_by_country = {}\n",
    "        self.global_medians = {}\n",
    "\n",
    "    def fit(self, data):\n",
    "        cols_with_na = data.columns[data.isna().any()].tolist()\n",
    "        for col in cols_with_na:\n",
    "            self.means_by_country[col] = data.groupby('Country')[col].mean()\n",
    "            self.global_medians[col] = data[col].median()\n",
    "\n",
    "    def transform(self, data):\n",
    "        data = data.copy()\n",
    "        for col in self.means_by_country:\n",
    "            data[col] = data.apply(\n",
    "                lambda row: self.means_by_country[col].get(row['Country'], self.global_medians[col])\n",
    "                if pd.isna(row[col]) else row[col], axis=1\n",
    "            )\n",
    "        # Encode Status\n",
    "        data['Status'] = data['Status'].map({'Developing': 0, 'Developed': 1})\n",
    "        return data\n",
    "\n",
    "    def fit_transform(self, data):\n",
    "        self.fit(data)\n",
    "        return self.transform(data)"
   ]
  },
  {
   "cell_type": "markdown",
   "metadata": {},
   "source": [
    "### 2. Add New Features\n",
    "- `GDP_per_capita`: GDP divided by Population.\n",
    "- `Child_mortality_ratio`: Ratio of under-five deaths to infant deaths.\n",
    "- `Health_expenditure_per_GDP`: Total expenditure divided by GDP."
   ]
  },
  {
   "cell_type": "code",
   "execution_count": null,
   "metadata": {},
   "outputs": [],
   "source": [
    "def add_features(df):\n",
    "    df = df.copy()\n",
    "    df['GDP_per_capita'] = df['GDP'] / df['Population'].replace(0, np.nan)\n",
    "    df['Child_mortality_ratio'] = df['under-five deaths'] / df['infant deaths'].replace(0, np.nan)\n",
    "    df['Health_expenditure_per_GDP'] = df['Total expenditure'] / df['GDP'].replace(0, np.nan)\n",
    "    return df"
   ]
  },
  {
   "cell_type": "markdown",
   "metadata": {},
   "source": [
    "### 3. Prepare Data\n",
    "- Split train data into train/validation sets.\n",
    "- Apply preprocessing and feature engineering."
   ]
  },
  {
   "cell_type": "code",
   "execution_count": null,
   "metadata": {},
   "outputs": [],
   "source": [
    "# Split data\n",
    "X = train_data.drop('Life expectancy', axis=1)\n",
    "y = train_data['Life expectancy']\n",
    "X_train, X_val, y_train, y_val = train_test_split(X, y, test_size=0.2, random_state=42)\n",
    "\n",
    "# Preprocess\n",
    "preprocessor = DataPreprocessor()\n",
    "X_train = preprocessor.fit_transform(X_train)\n",
    "X_val = preprocessor.transform(X_val)\n",
    "X_test = preprocessor.transform(test_data)\n",
    "\n",
    "# Add features\n",
    "X_train = add_features(X_train)\n",
    "X_val = add_features(X_val)\n",
    "X_test = add_features(X_test)\n",
    "\n",
    "# Drop Country column\n",
    "X_train = X_train.drop('Country', axis=1)\n",
    "X_val = X_val.drop('Country', axis=1)\n",
    "X_test = X_test.drop('Country', axis=1)\n",
    "\n",
    "# Scale features\n",
    "scaler = StandardScaler()\n",
    "X_train = scaler.fit_transform(X_train)\n",
    "X_val = scaler.transform(X_val)\n",
    "X_test = scaler.transform(X_test)"
   ]
  },
  {
   "cell_type": "markdown",
   "metadata": {},
   "source": [
    "## Model Training\n",
    "- Use LightGBM Regressor for better performance.\n",
    "- Evaluate with R² score."
   ]
  },
  {
   "cell_type": "code",
   "execution_count": null,
   "metadata": {},
   "outputs": [],
   "source": [
    "# Train model\n",
    "lgb_model = lgb.LGBMRegressor(n_estimators=1000, learning_rate=0.05, random_state=42)\n",
    "lgb_model.fit(X_train, y_train, eval_set=[(X_val, y_val)], early_stopping_rounds=50, verbose=100)\n",
    "\n",
    "# Evaluate\n",
    "y_pred_val = lgb_model.predict(X_val)\n",
    "r2 = r2_score(y_val, y_pred_val)\n",
    "print(f'Validation R² Score: {r2:.4f}')"
   ]
  },
  {
   "cell_type": "markdown",
   "metadata": {},
   "source": [
    "## Prediction and Submission\n",
    "- Predict life expectancy for test data.\n",
    "- Save submission file."
   ]
  },
  {
   "cell_type": "code",
   "execution_count": null,
   "metadata": {},
   "outputs": [],
   "source": [
    "# Predict on test data\n",
    "test_pred = lgb_model.predict(X_test)\n",
    "submission = pd.DataFrame({'Life expectancy': test_pred})\n",
    "submission.to_csv('submission.csv', index=False)"
   ]
  },
  {
   "cell_type": "markdown",
   "metadata": {},
   "source": [
    "## Save Outputs\n",
    "- Compress model, submission, and notebook."
   ]
  },
  {
   "cell_type": "code",
   "execution_count": null,
   "metadata": {},
   "outputs": [],
   "source": [
    "import joblib\n",
    "import zipfile\n",
    "\n",
    "# Save model and transformer\n",
    "joblib.dump(lgb_model, 'model')\n",
    "joblib.dump(preprocessor, 'preprocessor')\n",
    "joblib.dump(scaler, 'scaler')\n",
    "\n",
    "# Compress files\n",
    "output_dir = Path('outputs')\n",
    "output_dir.mkdir(exist_ok=True)\n",
    "files = ['model', 'preprocessor', 'scaler', 'submission.csv', 'life_expectancy_prediction.ipynb']\n",
    "with zipfile.ZipFile(output_dir / 'result.zip', 'w', compression=zipfile.ZIP_DEFLATED) as zf:\n",
    "    for file in files:\n",
    "        zf.write(file, file)"
   ]
  }
 ],
 "metadata": {
  "kernelspec": {
   "display_name": "Python 3 (ipykernel)",
   "language": "python",
   "name": "python3"
  },
  "language_info": {
   "codemirror_mode": {
    "name": "ipython",
    "version": 3
   },
   "file_extension": ".py",
   "mimetype": "text/x-python",
   "name": "python",
   "nbconvert_exporter": "python",
   "pygments_lexer": "ipython3",
   "version": "3.10.5"
  }
 },
 "nbformat": 4,
 "nbformat_minor": 5
}